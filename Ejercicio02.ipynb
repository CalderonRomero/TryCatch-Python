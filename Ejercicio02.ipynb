{
  "nbformat": 4,
  "nbformat_minor": 0,
  "metadata": {
    "colab": {
      "provenance": []
    },
    "kernelspec": {
      "name": "python3",
      "display_name": "Python 3"
    },
    "language_info": {
      "name": "python"
    }
  },
  "cells": [
    {
      "cell_type": "markdown",
      "source": [
        "<table border=1 width='140%'>\n",
        "<tr>\n",
        "<td bgcolor='#004261'>\n",
        "\n",
        "# **<font color=\"#FFFFFF\">Introducción al lenguaje de programación Python: Excepciones</font>**\n",
        "\n",
        "</td>\n",
        "</tr>\n",
        "</table>"
      ],
      "metadata": {
        "id": "PBE95QmhhUr8"
      }
    },
    {
      "cell_type": "markdown",
      "source": [
        "<table width='140%'>\n",
        "<tr>\n",
        "<td bgcolor='#FDD000'>\n",
        "\n",
        "## **<font color=\"#000000\">2. Modifique la aplicación para que en el ingreso de datos se ingrese un número entero caso contrario solicite un nuevo ingreso <br> hasta que se cumpla con el requerimiento.</font>**\n",
        "\n",
        "</td>\n",
        "</tr>\n",
        "</table>"
      ],
      "metadata": {
        "id": "pL-aHZ1ShY5L"
      }
    },
    {
      "cell_type": "code",
      "execution_count": 1,
      "metadata": {
        "colab": {
          "base_uri": "https://localhost:8080/"
        },
        "id": "CdB7w2UJhF44",
        "outputId": "6fc657ba-b9e5-4e15-bf6a-a748b90d3a22"
      },
      "outputs": [
        {
          "output_type": "stream",
          "name": "stdout",
          "text": [
            "Cálculo del Máximo Común Divisor (MCD)\n",
            "Introduce el primer número entero: 10.3\n",
            "Error: Debes ingresar un número entero válido. Inténtalo de nuevo.\n",
            "Introduce el primer número entero: 12\n",
            "Introduce el segundo número entero: 16\n",
            "El MCD de 12 y 16 es: 4\n"
          ]
        }
      ],
      "source": [
        "def calcular_mcd(a, b):\n",
        "    # Algoritmo de Euclides para calcular el MCD\n",
        "    while b != 0:\n",
        "        a, b = b, a % b\n",
        "    return a\n",
        "\n",
        "def obtener_numero_entero(mensaje):\n",
        "    while True:\n",
        "        try:\n",
        "            num = int(input(mensaje))  # Asegurarse de que sea un entero\n",
        "            return num\n",
        "        except ValueError:\n",
        "            print(\"Error: Debes ingresar un número entero válido. Inténtalo de nuevo.\")\n",
        "\n",
        "# Función principal\n",
        "def main():\n",
        "    print(\"Cálculo del Máximo Común Divisor (MCD)\")\n",
        "    num1 = obtener_numero_entero(\"Introduce el primer número entero: \")\n",
        "    num2 = obtener_numero_entero(\"Introduce el segundo número entero: \")\n",
        "\n",
        "    mcd = calcular_mcd(abs(num1), abs(num2))  # Usamos valores absolutos para el MCD\n",
        "    print(f\"El MCD de {num1} y {num2} es: {mcd}\")\n",
        "\n",
        "# Ejecutar el programa\n",
        "if __name__ == \"__main__\":\n",
        "    main()"
      ]
    }
  ]
}
